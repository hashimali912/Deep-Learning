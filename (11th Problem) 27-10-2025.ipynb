{
 "cells": [
  {
   "cell_type": "code",
   "execution_count": 2,
   "id": "ebbc784c-894c-4dd8-a206-04267b035f36",
   "metadata": {},
   "outputs": [],
   "source": [
    "import pickle\n",
    "import numpy as np\n",
    "import tensorflow as tf\n",
    "from tensorflow.keras.utils import to_categorical\n",
    "from sklearn.model_selection import train_test_split"
   ]
  },
  {
   "cell_type": "code",
   "execution_count": 3,
   "id": "2addf65b-626a-4820-b2bc-3cc196d337a0",
   "metadata": {},
   "outputs": [],
   "source": [
    "with open(\"data_batch_1\",\"rb\") as f:\n",
    "    batch = pickle.load(f,encoding='bytes')"
   ]
  },
  {
   "cell_type": "code",
   "execution_count": 5,
   "id": "52ffad7a-68cb-46aa-923c-a28c3406680b",
   "metadata": {},
   "outputs": [],
   "source": [
    "X= batch[b'data']\n",
    "y=np.array(batch[b'labels'])"
   ]
  },
  {
   "cell_type": "code",
   "execution_count": 7,
   "id": "69308ce6-6c65-435a-a930-393fc3cff3af",
   "metadata": {},
   "outputs": [],
   "source": [
    "X_images=X.reshape(-1,3,32,32).transpose(0,2,3,1).astype(\"float32\")/255.0"
   ]
  },
  {
   "cell_type": "code",
   "execution_count": 9,
   "id": "d43bf8f5-fa05-43d5-95e1-cf2cc3138ef8",
   "metadata": {},
   "outputs": [],
   "source": [
    "y_cat=to_categorical(y,num_classes=10)"
   ]
  },
  {
   "cell_type": "code",
   "execution_count": 10,
   "id": "18a6cbcf-65df-43ea-91af-ca758193782d",
   "metadata": {},
   "outputs": [],
   "source": [
    "X_train,X_test,y_train,y_test = train_test_split(X_images,y_cat,test_size=0.2,random_state=42)"
   ]
  },
  {
   "cell_type": "code",
   "execution_count": 11,
   "id": "0e81ce6e-f27f-4ff8-aa40-2207c5fcc2f9",
   "metadata": {},
   "outputs": [],
   "source": [
    "from tensorflow.keras import layers,models"
   ]
  },
  {
   "cell_type": "code",
   "execution_count": 13,
   "id": "aeefa385-d1fd-45a4-938c-85ac7e6715ce",
   "metadata": {},
   "outputs": [],
   "source": [
    "model_lenet = models.Sequential([\n",
    "    layers.Conv2D(6,(5,5),activation='tanh',input_shape=(32,32,3),padding='same'),\n",
    "    layers.AveragePooling2D(),\n",
    "    layers.Conv2D(16,(5,5), activation = 'tanh'),\n",
    "    layers.AveragePooling2D(),\n",
    "    layers.Flatten(),\n",
    "    layers.Dense(120, activation = 'tanh'),\n",
    "    layers.Dense(84, activation = 'tanh'),\n",
    "    layers.Dense(10, activation = 'softmax')])"
   ]
  },
  {
   "cell_type": "code",
   "execution_count": 15,
   "id": "1114b634-678d-4b20-a6b0-b0de33b83714",
   "metadata": {
    "scrolled": true
   },
   "outputs": [
    {
     "name": "stdout",
     "output_type": "stream",
     "text": [
      "Model: \"sequential_1\"\n",
      "_________________________________________________________________\n",
      " Layer (type)                Output Shape              Param #   \n",
      "=================================================================\n",
      " conv2d_2 (Conv2D)           (None, 32, 32, 6)         456       \n",
      "                                                                 \n",
      " average_pooling2d_2 (Averag  (None, 16, 16, 6)        0         \n",
      " ePooling2D)                                                     \n",
      "                                                                 \n",
      " conv2d_3 (Conv2D)           (None, 12, 12, 16)        2416      \n",
      "                                                                 \n",
      " average_pooling2d_3 (Averag  (None, 6, 6, 16)         0         \n",
      " ePooling2D)                                                     \n",
      "                                                                 \n",
      " flatten_1 (Flatten)         (None, 576)               0         \n",
      "                                                                 \n",
      " dense_3 (Dense)             (None, 120)               69240     \n",
      "                                                                 \n",
      " dense_4 (Dense)             (None, 84)                10164     \n",
      "                                                                 \n",
      " dense_5 (Dense)             (None, 10)                850       \n",
      "                                                                 \n",
      "=================================================================\n",
      "Total params: 83,126\n",
      "Trainable params: 83,126\n",
      "Non-trainable params: 0\n",
      "_________________________________________________________________\n",
      "Epoch 1/5\n",
      "125/125 [==============================] - 1s 7ms/step - loss: 1.9585 - accuracy: 0.2939 - val_loss: 1.7715 - val_accuracy: 0.3575\n",
      "Epoch 2/5\n",
      "125/125 [==============================] - 1s 6ms/step - loss: 1.7865 - accuracy: 0.3659 - val_loss: 1.7222 - val_accuracy: 0.3900\n",
      "Epoch 3/5\n",
      "125/125 [==============================] - 1s 6ms/step - loss: 1.7225 - accuracy: 0.3862 - val_loss: 1.6609 - val_accuracy: 0.4180\n",
      "Epoch 4/5\n",
      "125/125 [==============================] - 1s 6ms/step - loss: 1.6782 - accuracy: 0.4055 - val_loss: 1.6882 - val_accuracy: 0.4100\n",
      "Epoch 5/5\n",
      "125/125 [==============================] - 1s 6ms/step - loss: 1.6325 - accuracy: 0.4295 - val_loss: 1.6224 - val_accuracy: 0.4230\n"
     ]
    },
    {
     "data": {
      "text/plain": [
       "<keras.callbacks.History at 0x12c98be7040>"
      ]
     },
     "execution_count": 15,
     "metadata": {},
     "output_type": "execute_result"
    }
   ],
   "source": [
    "model_lenet.compile(optimizer='adam',loss='categorical_crossentropy',metrics=['accuracy'])\n",
    "model_lenet.summary()\n",
    "model_lenet.fit(X_train,y_train,epochs=5,batch_size=64,validation_data=(X_test,y_test))"
   ]
  },
  {
   "cell_type": "code",
   "execution_count": 19,
   "id": "71546cf9-73ef-42f2-bd53-f092333453b0",
   "metadata": {},
   "outputs": [],
   "source": [
    "model_alex = models.Sequential([\n",
    "    layers.Conv2D(96,(3,3),activation='relu',input_shape=(32,32,3),padding='same'),\n",
    "    layers.MaxPooling2D((2,2)),\n",
    "    layers.Conv2D(256,(3,3),activation='relu',padding='same'),\n",
    "    layers.MaxPooling2D((2,2)),\n",
    "    layers.Conv2D(384,(3,3),activation='relu',padding='same'),\n",
    "    layers.Conv2D(384,(3,3),activation='relu',padding='same'),\n",
    "    layers.Conv2D(256,(3,3),activation='relu',padding='same'),\n",
    "    layers.MaxPooling2D((2,2)),\n",
    "    layers.Flatten(),\n",
    "    layers.Dense(512,activation='relu'),\n",
    "    layers.Dense(512,activation='relu'),\n",
    "    layers.Dense(10,activation='softmax')])"
   ]
  },
  {
   "cell_type": "code",
   "execution_count": 20,
   "id": "956ca133-7b67-4b27-990d-b5351c6fa16f",
   "metadata": {},
   "outputs": [
    {
     "name": "stdout",
     "output_type": "stream",
     "text": [
      "Model: \"sequential_2\"\n",
      "_________________________________________________________________\n",
      " Layer (type)                Output Shape              Param #   \n",
      "=================================================================\n",
      " conv2d_4 (Conv2D)           (None, 32, 32, 96)        2688      \n",
      "                                                                 \n",
      " max_pooling2d (MaxPooling2D  (None, 16, 16, 96)       0         \n",
      " )                                                               \n",
      "                                                                 \n",
      " conv2d_5 (Conv2D)           (None, 16, 16, 256)       221440    \n",
      "                                                                 \n",
      " max_pooling2d_1 (MaxPooling  (None, 8, 8, 256)        0         \n",
      " 2D)                                                             \n",
      "                                                                 \n",
      " conv2d_6 (Conv2D)           (None, 8, 8, 384)         885120    \n",
      "                                                                 \n",
      " conv2d_7 (Conv2D)           (None, 8, 8, 384)         1327488   \n",
      "                                                                 \n",
      " conv2d_8 (Conv2D)           (None, 8, 8, 256)         884992    \n",
      "                                                                 \n",
      " max_pooling2d_2 (MaxPooling  (None, 4, 4, 256)        0         \n",
      " 2D)                                                             \n",
      "                                                                 \n",
      " flatten_2 (Flatten)         (None, 4096)              0         \n",
      "                                                                 \n",
      " dense_6 (Dense)             (None, 512)               2097664   \n",
      "                                                                 \n",
      " dense_7 (Dense)             (None, 512)               262656    \n",
      "                                                                 \n",
      " dense_8 (Dense)             (None, 10)                5130      \n",
      "                                                                 \n",
      "=================================================================\n",
      "Total params: 5,687,178\n",
      "Trainable params: 5,687,178\n",
      "Non-trainable params: 0\n",
      "_________________________________________________________________\n",
      "Epoch 1/5\n",
      "125/125 [==============================] - 26s 206ms/step - loss: 2.1746 - accuracy: 0.1646 - val_loss: 1.9854 - val_accuracy: 0.2475\n",
      "Epoch 2/5\n",
      "125/125 [==============================] - 25s 201ms/step - loss: 1.8298 - accuracy: 0.2989 - val_loss: 1.6282 - val_accuracy: 0.3915\n",
      "Epoch 3/5\n",
      "125/125 [==============================] - 28s 228ms/step - loss: 1.6057 - accuracy: 0.3979 - val_loss: 1.4846 - val_accuracy: 0.4585\n",
      "Epoch 4/5\n",
      "125/125 [==============================] - 28s 225ms/step - loss: 1.4485 - accuracy: 0.4576 - val_loss: 1.3641 - val_accuracy: 0.5140\n",
      "Epoch 5/5\n",
      "125/125 [==============================] - 28s 222ms/step - loss: 1.3127 - accuracy: 0.5170 - val_loss: 1.3486 - val_accuracy: 0.5075\n"
     ]
    },
    {
     "data": {
      "text/plain": [
       "<keras.callbacks.History at 0x12c99a02f20>"
      ]
     },
     "execution_count": 20,
     "metadata": {},
     "output_type": "execute_result"
    }
   ],
   "source": [
    "model_alex.compile(optimizer='adam',loss='categorical_crossentropy',metrics=['accuracy'])\n",
    "model_alex.summary()\n",
    "model_alex.fit(X_train,y_train,epochs=5,batch_size=64,validation_data=(X_test,y_test))"
   ]
  },
  {
   "cell_type": "code",
   "execution_count": null,
   "id": "a3d4e7cc-8191-4746-9a09-7c7d65d0215e",
   "metadata": {},
   "outputs": [],
   "source": []
  }
 ],
 "metadata": {
  "kernelspec": {
   "display_name": "Python 3 (ipykernel)",
   "language": "python",
   "name": "python3"
  },
  "language_info": {
   "codemirror_mode": {
    "name": "ipython",
    "version": 3
   },
   "file_extension": ".py",
   "mimetype": "text/x-python",
   "name": "python",
   "nbconvert_exporter": "python",
   "pygments_lexer": "ipython3",
   "version": "3.10.13"
  }
 },
 "nbformat": 4,
 "nbformat_minor": 5
}
