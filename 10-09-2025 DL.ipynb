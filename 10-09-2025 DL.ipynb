{
 "cells": [
  {
   "cell_type": "code",
   "execution_count": 27,
   "id": "dab77183",
   "metadata": {},
   "outputs": [],
   "source": [
    "import tensorflow as tf\n",
    "import numpy as np\n",
    "import pandas as pd"
   ]
  },
  {
   "cell_type": "code",
   "execution_count": 28,
   "id": "cc4f028e",
   "metadata": {},
   "outputs": [],
   "source": [
    "data = pd.read_csv(\"iris.csv\")"
   ]
  },
  {
   "cell_type": "code",
   "execution_count": 29,
   "id": "96a9cdfa",
   "metadata": {},
   "outputs": [],
   "source": [
    "X = data.iloc[:, :-1].values\n",
    "y_str = data.iloc[:,-1].values"
   ]
  },
  {
   "cell_type": "code",
   "execution_count": 30,
   "id": "399a92d4",
   "metadata": {},
   "outputs": [],
   "source": [
    "classes = np.unique(y_str)\n",
    "class_to_int = {c: i for i, c in enumerate(classes)}     \n",
    "y = np.array([class_to_int[label] for label in y_str])"
   ]
  },
  {
   "cell_type": "code",
   "execution_count": 31,
   "id": "b9c09dc9",
   "metadata": {},
   "outputs": [],
   "source": [
    "y = tf.keras.utils.to_categorical(y, num_classes=3)\n",
    "\n"
   ]
  },
  {
   "cell_type": "code",
   "execution_count": 32,
   "id": "691939ac",
   "metadata": {},
   "outputs": [],
   "source": [
    "train_size = int(0.8 * num_samples)\n",
    "train_idx, test_idx = indices[:train_size],indices[train_size:]"
   ]
  },
  {
   "cell_type": "code",
   "execution_count": 33,
   "id": "3b3fa59d",
   "metadata": {},
   "outputs": [],
   "source": [
    "X_train, X_test = X[train_idx], X[test_idx]\n",
    "y_train, y_test = y[train_idx], y[test_idx]"
   ]
  },
  {
   "cell_type": "code",
   "execution_count": 34,
   "id": "1f6447ea",
   "metadata": {},
   "outputs": [],
   "source": [
    "normalizer = tf.keras.layers.Normalization()\n",
    "normalizer.adapt(X_train)"
   ]
  },
  {
   "cell_type": "code",
   "execution_count": 47,
   "id": "2518520b",
   "metadata": {},
   "outputs": [],
   "source": [
    "def build_mlp(activation=\"relu\", optimizer=\"adam\"):\n",
    "    model = tf.keras.Sequential([normalizer,tf.keras.layers.Dense(8, activation=activation),\n",
    "                                tf.keras.layers.Dense(3, activation=\"softmax\")])\n",
    "    model.compile(optimizer=optimizer,loss=\"categorical_crossentropy\",metrics=[\"accuracy\"]) \n",
    "    return model"
   ]
  },
  {
   "cell_type": "code",
   "execution_count": 72,
   "id": "e9a6fc7c",
   "metadata": {},
   "outputs": [],
   "source": [
    "activations = [\"relu\", \"sigmoid\", \"tanh\"]\n",
    "optimizer = [\"adam\", \"sgd\", \"rmsprop\"]"
   ]
  },
  {
   "cell_type": "code",
   "execution_count": 78,
   "id": "966b711a",
   "metadata": {
    "scrolled": true
   },
   "outputs": [
    {
     "name": "stdout",
     "output_type": "stream",
     "text": [
      "\n",
      "Training with Activation=relu, Optimizer=adam\n",
      "Epoch 1/50\n",
      " 1/15 [=>............................] - ETA: 3s - loss: 1.1073 - accuracy: 0.3750"
     ]
    },
    {
     "ename": "AttributeError",
     "evalue": "'int' object has no attribute 'shape'",
     "output_type": "error",
     "traceback": [
      "\u001b[1;31m---------------------------------------------------------------------------\u001b[0m",
      "\u001b[1;31mAttributeError\u001b[0m                            Traceback (most recent call last)",
      "Cell \u001b[1;32mIn[78], line 7\u001b[0m\n\u001b[0;32m      5\u001b[0m \u001b[38;5;28mprint\u001b[39m(\u001b[38;5;124mf\u001b[39m\u001b[38;5;124m\"\u001b[39m\u001b[38;5;130;01m\\n\u001b[39;00m\u001b[38;5;124mTraining with Activation=\u001b[39m\u001b[38;5;132;01m{\u001b[39;00mact\u001b[38;5;132;01m}\u001b[39;00m\u001b[38;5;124m, Optimizer=\u001b[39m\u001b[38;5;132;01m{\u001b[39;00mopt\u001b[38;5;132;01m}\u001b[39;00m\u001b[38;5;124m\"\u001b[39m)\n\u001b[0;32m      6\u001b[0m model \u001b[38;5;241m=\u001b[39m build_mlp(activation\u001b[38;5;241m=\u001b[39mact, optimizer\u001b[38;5;241m=\u001b[39mopt)\n\u001b[1;32m----> 7\u001b[0m history \u001b[38;5;241m=\u001b[39m model\u001b[38;5;241m.\u001b[39mfit(X_train, y_train, epochs\u001b[38;5;241m=\u001b[39m\u001b[38;5;241m50\u001b[39m, batch_size\u001b[38;5;241m=\u001b[39m\u001b[38;5;241m8\u001b[39m, validation_data\u001b[38;5;241m=\u001b[39m(X_test,y_test,verbose\u001b[38;5;241m:=\u001b[39m\u001b[38;5;241m0\u001b[39m))\n\u001b[0;32m      8\u001b[0m test_loss, test_acc \u001b[38;5;241m=\u001b[39m model\u001b[38;5;241m.\u001b[39mevaluate(X_test, y_test, verbose\u001b[38;5;241m=\u001b[39m\u001b[38;5;241m0\u001b[39m)\n\u001b[0;32m      9\u001b[0m results[(act, opt)] \u001b[38;5;241m=\u001b[39m test_acc\n",
      "File \u001b[1;32m~\\AppData\\Roaming\\Python\\Python311\\site-packages\\keras\\src\\utils\\traceback_utils.py:70\u001b[0m, in \u001b[0;36mfilter_traceback.<locals>.error_handler\u001b[1;34m(*args, **kwargs)\u001b[0m\n\u001b[0;32m     67\u001b[0m     filtered_tb \u001b[38;5;241m=\u001b[39m _process_traceback_frames(e\u001b[38;5;241m.\u001b[39m__traceback__)\n\u001b[0;32m     68\u001b[0m     \u001b[38;5;66;03m# To get the full stack trace, call:\u001b[39;00m\n\u001b[0;32m     69\u001b[0m     \u001b[38;5;66;03m# `tf.debugging.disable_traceback_filtering()`\u001b[39;00m\n\u001b[1;32m---> 70\u001b[0m     \u001b[38;5;28;01mraise\u001b[39;00m e\u001b[38;5;241m.\u001b[39mwith_traceback(filtered_tb) \u001b[38;5;28;01mfrom\u001b[39;00m \u001b[38;5;28;01mNone\u001b[39;00m\n\u001b[0;32m     71\u001b[0m \u001b[38;5;28;01mfinally\u001b[39;00m:\n\u001b[0;32m     72\u001b[0m     \u001b[38;5;28;01mdel\u001b[39;00m filtered_tb\n",
      "File \u001b[1;32m~\\AppData\\Roaming\\Python\\Python311\\site-packages\\keras\\src\\engine\\data_adapter.py:266\u001b[0m, in \u001b[0;36m<genexpr>\u001b[1;34m(.0)\u001b[0m\n\u001b[0;32m    259\u001b[0m (sample_weights, _, _) \u001b[38;5;241m=\u001b[39m training_utils\u001b[38;5;241m.\u001b[39mhandle_partial_sample_weights(\n\u001b[0;32m    260\u001b[0m     y, sample_weights, sample_weight_modes, check_all_flat\u001b[38;5;241m=\u001b[39m\u001b[38;5;28;01mTrue\u001b[39;00m\n\u001b[0;32m    261\u001b[0m )\n\u001b[0;32m    263\u001b[0m inputs \u001b[38;5;241m=\u001b[39m pack_x_y_sample_weight(x, y, sample_weights)\n\u001b[0;32m    265\u001b[0m num_samples \u001b[38;5;241m=\u001b[39m \u001b[38;5;28mset\u001b[39m(\n\u001b[1;32m--> 266\u001b[0m     \u001b[38;5;28mint\u001b[39m(i\u001b[38;5;241m.\u001b[39mshape[\u001b[38;5;241m0\u001b[39m]) \u001b[38;5;28;01mfor\u001b[39;00m i \u001b[38;5;129;01min\u001b[39;00m tf\u001b[38;5;241m.\u001b[39mnest\u001b[38;5;241m.\u001b[39mflatten(inputs)\n\u001b[0;32m    267\u001b[0m )\u001b[38;5;241m.\u001b[39mpop()\n\u001b[0;32m    268\u001b[0m _check_data_cardinality(inputs)\n\u001b[0;32m    270\u001b[0m \u001b[38;5;66;03m# If batch_size is not passed but steps is, calculate from the input\u001b[39;00m\n\u001b[0;32m    271\u001b[0m \u001b[38;5;66;03m# data.  Defaults to `32` for backwards compatibility.\u001b[39;00m\n",
      "\u001b[1;31mAttributeError\u001b[0m: 'int' object has no attribute 'shape'"
     ]
    }
   ],
   "source": [
    "results =  {}\n",
    "\n",
    "for act in activations:\n",
    "    for opt in optimizer:\n",
    "        print(f\"\\nTraining with Activation={act}, Optimizer={opt}\")\n",
    "        model = build_mlp(activation=act, optimizer=opt)\n",
    "        history = model.fit(X_train, y_train, epochs=50, batch_size=8, validation_data=(X_test,y_test),verbose:=0))\n",
    "        test_loss, test_acc = model.evaluate(X_test, y_test, verbose=0)\n",
    "        results[(act, opt)] = test_acc\n",
    "        print(f\"Test Accuracy: {test_acc:.4f}\")"
   ]
  },
  {
   "cell_type": "code",
   "execution_count": 71,
   "id": "25ae8a58",
   "metadata": {},
   "outputs": [
    {
     "name": "stdout",
     "output_type": "stream",
     "text": [
      "\n",
      "Summary of Accuracies:\n"
     ]
    }
   ],
   "source": [
    "print(\"\\nSummary of Accuracies:\")\n",
    "for (act,opt),acc in results.items():\n",
    "    print(f\"Activation = {act:7} | Optimizer = [opt:7]) Accuracy = {acc:.4f}\")"
   ]
  },
  {
   "cell_type": "code",
   "execution_count": null,
   "id": "537cb653",
   "metadata": {},
   "outputs": [],
   "source": []
  }
 ],
 "metadata": {
  "kernelspec": {
   "display_name": "Python 3 (ipykernel)",
   "language": "python",
   "name": "python3"
  },
  "language_info": {
   "codemirror_mode": {
    "name": "ipython",
    "version": 3
   },
   "file_extension": ".py",
   "mimetype": "text/x-python",
   "name": "python",
   "nbconvert_exporter": "python",
   "pygments_lexer": "ipython3",
   "version": "3.11.5"
  }
 },
 "nbformat": 4,
 "nbformat_minor": 5
}
