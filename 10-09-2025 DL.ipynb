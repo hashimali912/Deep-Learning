{
 "cells": [
  {
   "cell_type": "code",
   "execution_count": 4,
   "id": "dab77183",
   "metadata": {
    "scrolled": true
   },
   "outputs": [],
   "source": [
    "import tensorflow as tf\n",
    "import numpy as np\n",
    "import pandas as pd"
   ]
  },
  {
   "cell_type": "code",
   "execution_count": 5,
   "id": "cc4f028e",
   "metadata": {},
   "outputs": [],
   "source": [
    "data = pd.read_csv(\"iris.csv\")"
   ]
  },
  {
   "cell_type": "code",
   "execution_count": 6,
   "id": "df82435d-48ef-4bc6-bb04-5706618f7dca",
   "metadata": {},
   "outputs": [
    {
     "data": {
      "text/html": [
       "<div>\n",
       "<style scoped>\n",
       "    .dataframe tbody tr th:only-of-type {\n",
       "        vertical-align: middle;\n",
       "    }\n",
       "\n",
       "    .dataframe tbody tr th {\n",
       "        vertical-align: top;\n",
       "    }\n",
       "\n",
       "    .dataframe thead th {\n",
       "        text-align: right;\n",
       "    }\n",
       "</style>\n",
       "<table border=\"1\" class=\"dataframe\">\n",
       "  <thead>\n",
       "    <tr style=\"text-align: right;\">\n",
       "      <th></th>\n",
       "      <th>sepal.length</th>\n",
       "      <th>sepal.width</th>\n",
       "      <th>petal.length</th>\n",
       "      <th>petal.width</th>\n",
       "      <th>variety</th>\n",
       "    </tr>\n",
       "  </thead>\n",
       "  <tbody>\n",
       "    <tr>\n",
       "      <th>0</th>\n",
       "      <td>5.1</td>\n",
       "      <td>3.5</td>\n",
       "      <td>1.4</td>\n",
       "      <td>0.2</td>\n",
       "      <td>Setosa</td>\n",
       "    </tr>\n",
       "    <tr>\n",
       "      <th>1</th>\n",
       "      <td>4.9</td>\n",
       "      <td>3.0</td>\n",
       "      <td>1.4</td>\n",
       "      <td>0.2</td>\n",
       "      <td>Setosa</td>\n",
       "    </tr>\n",
       "    <tr>\n",
       "      <th>2</th>\n",
       "      <td>4.7</td>\n",
       "      <td>3.2</td>\n",
       "      <td>1.3</td>\n",
       "      <td>0.2</td>\n",
       "      <td>Setosa</td>\n",
       "    </tr>\n",
       "    <tr>\n",
       "      <th>3</th>\n",
       "      <td>4.6</td>\n",
       "      <td>3.1</td>\n",
       "      <td>1.5</td>\n",
       "      <td>0.2</td>\n",
       "      <td>Setosa</td>\n",
       "    </tr>\n",
       "    <tr>\n",
       "      <th>4</th>\n",
       "      <td>5.0</td>\n",
       "      <td>3.6</td>\n",
       "      <td>1.4</td>\n",
       "      <td>0.2</td>\n",
       "      <td>Setosa</td>\n",
       "    </tr>\n",
       "    <tr>\n",
       "      <th>...</th>\n",
       "      <td>...</td>\n",
       "      <td>...</td>\n",
       "      <td>...</td>\n",
       "      <td>...</td>\n",
       "      <td>...</td>\n",
       "    </tr>\n",
       "    <tr>\n",
       "      <th>145</th>\n",
       "      <td>6.7</td>\n",
       "      <td>3.0</td>\n",
       "      <td>5.2</td>\n",
       "      <td>2.3</td>\n",
       "      <td>Virginica</td>\n",
       "    </tr>\n",
       "    <tr>\n",
       "      <th>146</th>\n",
       "      <td>6.3</td>\n",
       "      <td>2.5</td>\n",
       "      <td>5.0</td>\n",
       "      <td>1.9</td>\n",
       "      <td>Virginica</td>\n",
       "    </tr>\n",
       "    <tr>\n",
       "      <th>147</th>\n",
       "      <td>6.5</td>\n",
       "      <td>3.0</td>\n",
       "      <td>5.2</td>\n",
       "      <td>2.0</td>\n",
       "      <td>Virginica</td>\n",
       "    </tr>\n",
       "    <tr>\n",
       "      <th>148</th>\n",
       "      <td>6.2</td>\n",
       "      <td>3.4</td>\n",
       "      <td>5.4</td>\n",
       "      <td>2.3</td>\n",
       "      <td>Virginica</td>\n",
       "    </tr>\n",
       "    <tr>\n",
       "      <th>149</th>\n",
       "      <td>5.9</td>\n",
       "      <td>3.0</td>\n",
       "      <td>5.1</td>\n",
       "      <td>1.8</td>\n",
       "      <td>Virginica</td>\n",
       "    </tr>\n",
       "  </tbody>\n",
       "</table>\n",
       "<p>150 rows × 5 columns</p>\n",
       "</div>"
      ],
      "text/plain": [
       "     sepal.length  sepal.width  petal.length  petal.width    variety\n",
       "0             5.1          3.5           1.4          0.2     Setosa\n",
       "1             4.9          3.0           1.4          0.2     Setosa\n",
       "2             4.7          3.2           1.3          0.2     Setosa\n",
       "3             4.6          3.1           1.5          0.2     Setosa\n",
       "4             5.0          3.6           1.4          0.2     Setosa\n",
       "..            ...          ...           ...          ...        ...\n",
       "145           6.7          3.0           5.2          2.3  Virginica\n",
       "146           6.3          2.5           5.0          1.9  Virginica\n",
       "147           6.5          3.0           5.2          2.0  Virginica\n",
       "148           6.2          3.4           5.4          2.3  Virginica\n",
       "149           5.9          3.0           5.1          1.8  Virginica\n",
       "\n",
       "[150 rows x 5 columns]"
      ]
     },
     "execution_count": 6,
     "metadata": {},
     "output_type": "execute_result"
    }
   ],
   "source": [
    "data"
   ]
  },
  {
   "cell_type": "code",
   "execution_count": 7,
   "id": "96a9cdfa",
   "metadata": {},
   "outputs": [],
   "source": [
    "X = data.iloc[:, :-1].values\n",
    "y_str = data.iloc[:,-1].values"
   ]
  },
  {
   "cell_type": "code",
   "execution_count": 8,
   "id": "399a92d4",
   "metadata": {},
   "outputs": [],
   "source": [
    "classes = np.unique(y_str)\n",
    "class_to_int = {c: i for i, c in enumerate(classes)}     \n",
    "y = np.array([class_to_int[label] for label in y_str])"
   ]
  },
  {
   "cell_type": "code",
   "execution_count": 9,
   "id": "b9c09dc9",
   "metadata": {},
   "outputs": [],
   "source": [
    "y = tf.keras.utils.to_categorical(y, num_classes=3)\n",
    "\n"
   ]
  },
  {
   "cell_type": "code",
   "execution_count": 11,
   "id": "62f1f8b6-04a1-459b-8f8a-df20d6797c9f",
   "metadata": {},
   "outputs": [],
   "source": [
    "num_samples = 100\n",
    "indices = np.arange(num_samples)\n",
    "np.random.shuffle(indices)"
   ]
  },
  {
   "cell_type": "code",
   "execution_count": 12,
   "id": "691939ac",
   "metadata": {},
   "outputs": [],
   "source": [
    "train_size = int(0.8 * num_samples)\n",
    "train_idx, test_idx = indices[:train_size],indices[train_size:]"
   ]
  },
  {
   "cell_type": "code",
   "execution_count": 13,
   "id": "3b3fa59d",
   "metadata": {},
   "outputs": [],
   "source": [
    "X_train, X_test = X[train_idx], X[test_idx]\n",
    "y_train, y_test = y[train_idx], y[test_idx]"
   ]
  },
  {
   "cell_type": "code",
   "execution_count": 14,
   "id": "1f6447ea",
   "metadata": {},
   "outputs": [],
   "source": [
    "normalizer = tf.keras.layers.Normalization()\n",
    "normalizer.adapt(X_train)"
   ]
  },
  {
   "cell_type": "code",
   "execution_count": 15,
   "id": "2518520b",
   "metadata": {},
   "outputs": [],
   "source": [
    "def build_mlp(activation=\"relu\", optimizer=\"adam\"):\n",
    "    model = tf.keras.Sequential([normalizer,tf.keras.layers.Dense(8, activation=activation),\n",
    "                                tf.keras.layers.Dense(3, activation=\"softmax\")])\n",
    "    model.compile(optimizer=optimizer,loss=\"categorical_crossentropy\",metrics=[\"accuracy\"]) \n",
    "    return model"
   ]
  },
  {
   "cell_type": "code",
   "execution_count": 16,
   "id": "e9a6fc7c",
   "metadata": {},
   "outputs": [],
   "source": [
    "activations = [\"relu\", \"sigmoid\", \"tanh\"]\n",
    "optimizer = [\"adam\", \"sgd\", \"rmsprop\"]"
   ]
  },
  {
   "cell_type": "code",
   "execution_count": 19,
   "id": "966b711a",
   "metadata": {
    "scrolled": true
   },
   "outputs": [
    {
     "name": "stdout",
     "output_type": "stream",
     "text": [
      "\n",
      "Training with Activation=relu, Optimizer=adam\n",
      "Test Accuracy: 1.0000\n",
      "\n",
      "Training with Activation=relu, Optimizer=sgd\n",
      "Test Accuracy: 1.0000\n",
      "\n",
      "Training with Activation=relu, Optimizer=rmsprop\n",
      "Test Accuracy: 1.0000\n",
      "\n",
      "Training with Activation=sigmoid, Optimizer=adam\n",
      "Test Accuracy: 1.0000\n",
      "\n",
      "Training with Activation=sigmoid, Optimizer=sgd\n",
      "Test Accuracy: 1.0000\n",
      "\n",
      "Training with Activation=sigmoid, Optimizer=rmsprop\n",
      "Test Accuracy: 1.0000\n",
      "\n",
      "Training with Activation=tanh, Optimizer=adam\n",
      "Test Accuracy: 1.0000\n",
      "\n",
      "Training with Activation=tanh, Optimizer=sgd\n",
      "Test Accuracy: 1.0000\n",
      "\n",
      "Training with Activation=tanh, Optimizer=rmsprop\n",
      "Test Accuracy: 1.0000\n"
     ]
    }
   ],
   "source": [
    "results =  {}\n",
    "\n",
    "for act in activations:\n",
    "    for opt in optimizer:\n",
    "        print(f\"\\nTraining with Activation={act}, Optimizer={opt}\")\n",
    "        model = build_mlp(activation=act, optimizer=opt)\n",
    "        history = model.fit(X_train, y_train, epochs=50, batch_size=8, validation_data=(X_test,y_test),verbose=0)\n",
    "        test_loss, test_acc = model.evaluate(X_test, y_test, verbose=0)\n",
    "        results[(act, opt)] = test_acc\n",
    "        print(f\"Test Accuracy: {test_acc:.4f}\")"
   ]
  },
  {
   "cell_type": "code",
   "execution_count": 20,
   "id": "25ae8a58",
   "metadata": {},
   "outputs": [
    {
     "name": "stdout",
     "output_type": "stream",
     "text": [
      "\n",
      "Summary of Accuracies:\n",
      "Activation = relu    | Optimizer = [opt:7]) Accuracy = 1.0000\n",
      "Activation = relu    | Optimizer = [opt:7]) Accuracy = 1.0000\n",
      "Activation = relu    | Optimizer = [opt:7]) Accuracy = 1.0000\n",
      "Activation = sigmoid | Optimizer = [opt:7]) Accuracy = 1.0000\n",
      "Activation = sigmoid | Optimizer = [opt:7]) Accuracy = 1.0000\n",
      "Activation = sigmoid | Optimizer = [opt:7]) Accuracy = 1.0000\n",
      "Activation = tanh    | Optimizer = [opt:7]) Accuracy = 1.0000\n",
      "Activation = tanh    | Optimizer = [opt:7]) Accuracy = 1.0000\n",
      "Activation = tanh    | Optimizer = [opt:7]) Accuracy = 1.0000\n"
     ]
    }
   ],
   "source": [
    "print(\"\\nSummary of Accuracies:\")\n",
    "for (act,opt),acc in results.items():\n",
    "    print(f\"Activation = {act:7} | Optimizer = [opt:7]) Accuracy = {acc:.4f}\")"
   ]
  },
  {
   "cell_type": "code",
   "execution_count": null,
   "id": "537cb653",
   "metadata": {},
   "outputs": [],
   "source": []
  }
 ],
 "metadata": {
  "kernelspec": {
   "display_name": "Python 3 (ipykernel)",
   "language": "python",
   "name": "python3"
  },
  "language_info": {
   "codemirror_mode": {
    "name": "ipython",
    "version": 3
   },
   "file_extension": ".py",
   "mimetype": "text/x-python",
   "name": "python",
   "nbconvert_exporter": "python",
   "pygments_lexer": "ipython3",
   "version": "3.10.8"
  }
 },
 "nbformat": 4,
 "nbformat_minor": 5
}
