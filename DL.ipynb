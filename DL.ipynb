{
 "cells": [
  {
   "cell_type": "code",
   "execution_count": 1,
   "id": "96908e0c-4013-43d6-9863-5eb6f38783bd",
   "metadata": {},
   "outputs": [],
   "source": [
    "import numpy as np"
   ]
  },
  {
   "cell_type": "code",
   "execution_count": 2,
   "id": "563c1cc8-06fd-4be1-9d8f-711720d0564d",
   "metadata": {},
   "outputs": [
    {
     "name": "stdout",
     "output_type": "stream",
     "text": [
      "Original Tensor :\n",
      " [[ 1  2  3  4]\n",
      " [ 5  6  7  8]\n",
      " [ 9 10 11 12]]\n"
     ]
    }
   ],
   "source": [
    "data = np.arange(1,13).reshape(3,4)\n",
    "print(\"Original Tensor :\\n\",data)"
   ]
  },
  {
   "cell_type": "code",
   "execution_count": 4,
   "id": "e5140841-0289-4605-b74e-93e6d368de2b",
   "metadata": {},
   "outputs": [
    {
     "name": "stdout",
     "output_type": "stream",
     "text": [
      "\n",
      " Split Parts:\n",
      "[[ 1  2]\n",
      " [ 5  6]\n",
      " [ 9 10]]\n",
      "[[ 3  4]\n",
      " [ 7  8]\n",
      " [11 12]]\n"
     ]
    }
   ],
   "source": [
    "splits = np.split(data,2,axis=1)\n",
    "print(\"\\n Split Parts:\")\n",
    "for part in splits:\n",
    "    print(part)"
   ]
  },
  {
   "cell_type": "code",
   "execution_count": 5,
   "id": "6a48c885-0c51-4be6-8591-355d173f02d6",
   "metadata": {},
   "outputs": [
    {
     "name": "stdout",
     "output_type": "stream",
     "text": [
      "\n",
      " Merged Tensor :\n",
      " [[ 1  2  3  4]\n",
      " [ 5  6  7  8]\n",
      " [ 9 10 11 12]]\n"
     ]
    }
   ],
   "source": [
    "merged = np.concatenate(splits,axis=1)\n",
    "print(\"\\n Merged Tensor :\\n\",merged)"
   ]
  },
  {
   "cell_type": "code",
   "execution_count": 6,
   "id": "fd6334d9-a81a-46b4-8c3e-f23c4cb4a712",
   "metadata": {},
   "outputs": [],
   "source": [
    "mean_val = np.mean(data)\n",
    "max_val = np.max(data)\n",
    "min_val = np.min(data)\n",
    "sum_val = "
   ]
  },
  {
   "cell_type": "code",
   "execution_count": 8,
   "id": "31710298-b7c1-4e62-a51a-8ecbea2caf21",
   "metadata": {},
   "outputs": [],
   "source": [
    "import tensorflow as tf"
   ]
  },
  {
   "cell_type": "code",
   "execution_count": 9,
   "id": "ac4cdede-ab29-418e-b0dd-cca9715ec9ba",
   "metadata": {},
   "outputs": [
    {
     "name": "stdout",
     "output_type": "stream",
     "text": [
      "Original Tensor :\n",
      " [[ 1.  2.  3.  4.]\n",
      " [ 5.  6.  7.  8.]\n",
      " [ 0. 10. 11. 12.]]\n"
     ]
    }
   ],
   "source": [
    "data = tf.constant([[1,2,3,4],[5,6,7,8],[0,10,11,12]],dtype = tf.float32)\n",
    "print(\"Original Tensor :\\n\",data.numpy())"
   ]
  },
  {
   "cell_type": "code",
   "execution_count": 10,
   "id": "0247c699-370a-4547-84fe-cc8a9ac6236b",
   "metadata": {},
   "outputs": [],
   "source": [
    "splits = tf.split(data,num_or_size_splits=2,axis=1)"
   ]
  },
  {
   "cell_type": "code",
   "execution_count": 11,
   "id": "4bbe725a-1da9-4db8-88b4-b263d5862e05",
   "metadata": {},
   "outputs": [
    {
     "name": "stdout",
     "output_type": "stream",
     "text": [
      "\n",
      " Split Parts:\n",
      "[[ 1.  2.]\n",
      " [ 5.  6.]\n",
      " [ 0. 10.]]\n",
      "[[ 3.  4.]\n",
      " [ 7.  8.]\n",
      " [11. 12.]]\n"
     ]
    }
   ],
   "source": [
    "print(\"\\n Split Parts:\")\n",
    "for part in splits:\n",
    "    print(part.numpy())"
   ]
  },
  {
   "cell_type": "code",
   "execution_count": 14,
   "id": "4bdb8798-ae2c-415c-9921-ac8a792303a3",
   "metadata": {},
   "outputs": [
    {
     "name": "stdout",
     "output_type": "stream",
     "text": [
      "\n",
      " Split Parts:\n",
      "[[ 1.  2.]\n",
      " [ 5.  6.]\n",
      " [ 0. 10.]]\n",
      "[[ 3.  4.]\n",
      " [ 7.  8.]\n",
      " [11. 12.]]\n"
     ]
    }
   ],
   "source": [
    "print(\"\\n Split Parts:\")\n",
    "for part in splits:\n",
    "    print(part.numpy())"
   ]
  },
  {
   "cell_type": "code",
   "execution_count": 18,
   "id": "804a99c0-1031-41fa-a827-ed9d07140eba",
   "metadata": {},
   "outputs": [],
   "source": [
    "mean_val = tf.reduce_mean(data)\n",
    "max_val = tf.reduce_max(data)\n",
    "min_val = tf.reduce_min(data)\n",
    "sum_val = tf.reduce_sum(data)\n",
    "std_val = tf.math.reduce_std(data)"
   ]
  },
  {
   "cell_type": "code",
   "execution_count": 21,
   "id": "251132c8-dc4b-4db8-8376-525ad3b1b334",
   "metadata": {},
   "outputs": [
    {
     "name": "stdout",
     "output_type": "stream",
     "text": [
      "\n",
      "Statistics:\n",
      "Mean: 5.75\n",
      "Max: 12.0\n",
      "Min: 0.0\n",
      "Sum: 69.0\n",
      "Standard Deviation: 3.788689374923706\n"
     ]
    }
   ],
   "source": [
    "print(\"\\nStatistics:\")\n",
    "print(f\"Mean: {mean_val.numpy()}\")\n",
    "print(f\"Max: {max_val.numpy()}\")\n",
    "print(f\"Min: {min_val.numpy()}\")\n",
    "print(f\"Sum: {sum_val.numpy()}\")\n",
    "print(f\"Standard Deviation: {std_val.numpy()}\")\n"
   ]
  },
  {
   "cell_type": "code",
   "execution_count": null,
   "id": "edc18c2b-3c81-4b3b-9a85-98113a489109",
   "metadata": {},
   "outputs": [],
   "source": []
  }
 ],
 "metadata": {
  "kernelspec": {
   "display_name": "Python 3 (ipykernel)",
   "language": "python",
   "name": "python3"
  },
  "language_info": {
   "codemirror_mode": {
    "name": "ipython",
    "version": 3
   },
   "file_extension": ".py",
   "mimetype": "text/x-python",
   "name": "python",
   "nbconvert_exporter": "python",
   "pygments_lexer": "ipython3",
   "version": "3.12.11"
  }
 },
 "nbformat": 4,
 "nbformat_minor": 5
}
