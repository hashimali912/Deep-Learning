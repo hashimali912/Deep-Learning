{
 "cells": [
  {
   "cell_type": "code",
   "execution_count": 3,
   "id": "c94e5001-61f6-4969-9601-c0465a2d2a7c",
   "metadata": {},
   "outputs": [],
   "source": [
    "import numpy as np\n",
    "A=np.array([[1,2],[3,4]])\n",
    "B=np.array([[5,6],[7,8]])"
   ]
  },
  {
   "cell_type": "code",
   "execution_count": 4,
   "id": "53b56842-0a8c-4f57-9428-ac739b128707",
   "metadata": {},
   "outputs": [
    {
     "name": "stdout",
     "output_type": "stream",
     "text": [
      "Tensor A:\n",
      " [[1 2]\n",
      " [3 4]]\n",
      "Tensor B:\n",
      " [[5 6]\n",
      " [7 8]]\n"
     ]
    }
   ],
   "source": [
    "print(\"Tensor A:\\n\", A)\n",
    "print(\"Tensor B:\\n\", B)"
   ]
  },
  {
   "cell_type": "code",
   "execution_count": 5,
   "id": "25fdc830-91c9-4f45-b175-0602c9c3cdc3",
   "metadata": {},
   "outputs": [
    {
     "name": "stdout",
     "output_type": "stream",
     "text": [
      "[[ 6  8]\n",
      " [10 12]] 1\n",
      " [[-4 -4]\n",
      " [-4 -4]] 2\n",
      " [[ 5 12]\n",
      " [21 32]] 3\n",
      " [[0.2        0.33333333]\n",
      " [0.42857143 0.5       ]] 4\n",
      " [[19 22]\n",
      " [43 50]]\n"
     ]
    }
   ],
   "source": [
    "add=A+B\n",
    "sub=A-B\n",
    "mul=A*B\n",
    "div=A/B\n",
    "matmul=A@B\n",
    "print(add,\"1\\n\" , sub, \"2\\n\", mul,\"3\\n\" ,div, \"4\\n\", matmul)"
   ]
  },
  {
   "cell_type": "code",
   "execution_count": 6,
   "id": "f6e65412-c09f-46f2-b003-8b3174b4c4ce",
   "metadata": {},
   "outputs": [],
   "source": [
    "import tensorflow as tf"
   ]
  },
  {
   "cell_type": "code",
   "execution_count": 7,
   "id": "cc7d0482-530d-4b62-b60f-6439e1bf9de9",
   "metadata": {},
   "outputs": [
    {
     "data": {
      "text/plain": [
       "<tf.Tensor: shape=(2, 2), dtype=int32, numpy=\n",
       "array([[1, 2],\n",
       "       [3, 4]])>"
      ]
     },
     "execution_count": 7,
     "metadata": {},
     "output_type": "execute_result"
    }
   ],
   "source": [
    "A=tf.constant([[1,2],[3,4]])\n",
    "B=tf.constant([[5,6],[7,8]])\n",
    "A"
   ]
  },
  {
   "cell_type": "code",
   "execution_count": 8,
   "id": "190e980b-b18d-4543-a97a-d18c836f70fa",
   "metadata": {},
   "outputs": [
    {
     "data": {
      "text/plain": [
       "<tf.Tensor: shape=(2, 2), dtype=int32, numpy=\n",
       "array([[5, 6],\n",
       "       [7, 8]])>"
      ]
     },
     "execution_count": 8,
     "metadata": {},
     "output_type": "execute_result"
    }
   ],
   "source": [
    "B"
   ]
  },
  {
   "cell_type": "code",
   "execution_count": 9,
   "id": "28167fb2-aa19-49ea-9e1a-6d0e0a6f6c24",
   "metadata": {},
   "outputs": [],
   "source": [
    "add=tf.add(A,B)\n",
    "sub=tf.subtract(A,B)\n",
    "mul=tf.multiply(A,B)\n",
    "div=tf.divide(A,B)\n",
    "matmul=tf.matmul(A,B)"
   ]
  },
  {
   "cell_type": "code",
   "execution_count": 10,
   "id": "6ea4c352-aaea-4106-baf9-bb1860c6f55f",
   "metadata": {},
   "outputs": [
    {
     "data": {
      "text/plain": [
       "<tf.Tensor: shape=(2, 2), dtype=int32, numpy=\n",
       "array([[ 6,  8],\n",
       "       [10, 12]])>"
      ]
     },
     "execution_count": 10,
     "metadata": {},
     "output_type": "execute_result"
    }
   ],
   "source": [
    "add"
   ]
  },
  {
   "cell_type": "code",
   "execution_count": 11,
   "id": "30e8652a-26a2-4405-9f56-706ae0902509",
   "metadata": {},
   "outputs": [
    {
     "data": {
      "text/plain": [
       "<tf.Tensor: shape=(2, 2), dtype=int32, numpy=\n",
       "array([[-4, -4],\n",
       "       [-4, -4]])>"
      ]
     },
     "execution_count": 11,
     "metadata": {},
     "output_type": "execute_result"
    }
   ],
   "source": [
    "sub"
   ]
  },
  {
   "cell_type": "code",
   "execution_count": 12,
   "id": "d7bd04e5-8e91-4e84-ab62-a1f2c6935440",
   "metadata": {},
   "outputs": [
    {
     "data": {
      "text/plain": [
       "<tf.Tensor: shape=(2, 2), dtype=int32, numpy=\n",
       "array([[ 5, 12],\n",
       "       [21, 32]])>"
      ]
     },
     "execution_count": 12,
     "metadata": {},
     "output_type": "execute_result"
    }
   ],
   "source": [
    "mul"
   ]
  },
  {
   "cell_type": "code",
   "execution_count": 13,
   "id": "99535240-0b49-4ede-9624-ccc54673795e",
   "metadata": {},
   "outputs": [
    {
     "data": {
      "text/plain": [
       "<tf.Tensor: shape=(2, 2), dtype=float64, numpy=\n",
       "array([[0.2       , 0.33333333],\n",
       "       [0.42857143, 0.5       ]])>"
      ]
     },
     "execution_count": 13,
     "metadata": {},
     "output_type": "execute_result"
    }
   ],
   "source": [
    "div"
   ]
  },
  {
   "cell_type": "code",
   "execution_count": 14,
   "id": "7c70fe62-18ec-4973-80f6-26698bc5002e",
   "metadata": {},
   "outputs": [
    {
     "data": {
      "text/plain": [
       "<tf.Tensor: shape=(2, 2), dtype=int32, numpy=\n",
       "array([[19, 22],\n",
       "       [43, 50]])>"
      ]
     },
     "execution_count": 14,
     "metadata": {},
     "output_type": "execute_result"
    }
   ],
   "source": [
    "matmul"
   ]
  },
  {
   "cell_type": "code",
   "execution_count": 15,
   "id": "41a9620f-1d58-4ada-8d3e-7dd24618e182",
   "metadata": {},
   "outputs": [],
   "source": [
    "#SECOND PROGRAM "
   ]
  },
  {
   "cell_type": "code",
   "execution_count": 16,
   "id": "59603631-93f7-472c-ab00-626c1008e055",
   "metadata": {},
   "outputs": [
    {
     "data": {
      "text/plain": [
       "array([[ 1,  2,  3,  4],\n",
       "       [ 5,  6,  7,  8],\n",
       "       [ 9, 10, 11, 12]])"
      ]
     },
     "execution_count": 16,
     "metadata": {},
     "output_type": "execute_result"
    }
   ],
   "source": [
    "#Create a 3x4 tensor\n",
    "data=np.arange(1,13).reshape(3,4)\n",
    "data"
   ]
  },
  {
   "cell_type": "code",
   "execution_count": 17,
   "id": "a3dd9319-0dbf-45d7-be30-f412ed1670fb",
   "metadata": {},
   "outputs": [
    {
     "name": "stdout",
     "output_type": "stream",
     "text": [
      "[[ 1  2]\n",
      " [ 5  6]\n",
      " [ 9 10]]\n",
      "[[ 3  4]\n",
      " [ 7  8]\n",
      " [11 12]]\n"
     ]
    }
   ],
   "source": [
    "#Split into 2 parts along columns (axis=1)\n",
    "splits=np.split(data,2, axis=1)\n",
    "for part in splits:\n",
    "    print(part)"
   ]
  },
  {
   "cell_type": "code",
   "execution_count": 18,
   "id": "36d8fffb-8d51-48bf-8c04-6255898c3259",
   "metadata": {},
   "outputs": [
    {
     "name": "stdout",
     "output_type": "stream",
     "text": [
      "\n",
      "Merged Tensor: [[ 1  2  3  4]\n",
      " [ 5  6  7  8]\n",
      " [ 9 10 11 12]]\n"
     ]
    }
   ],
   "source": [
    "#Merge back into original tensor\n",
    "merged=np.concatenate(splits, axis=1)\n",
    "print(\"\\nMerged Tensor:\", merged)"
   ]
  },
  {
   "cell_type": "code",
   "execution_count": 22,
   "id": "f5b82041-f781-4f13-b6e6-bb7a9baa51d6",
   "metadata": {},
   "outputs": [],
   "source": [
    "#STATISTICS\n",
    "mean_val=np.mean(data)\n",
    "max_val=np.max(data)\n",
    "min_val=np.min(data)\n",
    "sum_val=np.sum(data)\n",
    "std_val=np.std(data)"
   ]
  },
  {
   "cell_type": "code",
   "execution_count": 23,
   "id": "b0188c28-c436-4ed1-99ab-b17a868d3ab9",
   "metadata": {},
   "outputs": [
    {
     "name": "stdout",
     "output_type": "stream",
     "text": [
      "\n",
      "Statistics:\n",
      "Mean:6.5\n",
      "Max:12\n",
      "Min:1\n",
      "Sum:78\n",
      "Std:3.452052529534663\n"
     ]
    }
   ],
   "source": [
    "print(\"\\nStatistics:\")\n",
    "print(f\"Mean:{mean_val}\")\n",
    "print(f\"Max:{max_val}\")\n",
    "print(f\"Min:{min_val}\")\n",
    "print(f\"Sum:{sum_val}\")\n",
    "print(f\"Std:{std_val}\")"
   ]
  },
  {
   "cell_type": "code",
   "execution_count": null,
   "id": "c30cc7e7-bdc6-4cb7-af85-e8fb2944f9e8",
   "metadata": {},
   "outputs": [],
   "source": []
  }
 ],
 "metadata": {
  "kernelspec": {
   "display_name": "Python 3 (ipykernel)",
   "language": "python",
   "name": "python3"
  },
  "language_info": {
   "codemirror_mode": {
    "name": "ipython",
    "version": 3
   },
   "file_extension": ".py",
   "mimetype": "text/x-python",
   "name": "python",
   "nbconvert_exporter": "python",
   "pygments_lexer": "ipython3",
   "version": "3.12.11"
  }
 },
 "nbformat": 4,
 "nbformat_minor": 5
}
